{
 "cells": [
  {
   "cell_type": "code",
   "execution_count": 1,
   "metadata": {},
   "outputs": [],
   "source": [
    "import re\n",
    "import nltk\n",
    "import string\n",
    "import warnings\n",
    "import numpy as np\n",
    "import pandas as pd\n",
    "import seaborn as sns\n",
    "import matplotlib.pyplot as plt\n",
    "import gensim\n",
    "\n",
    "pd.set_option(\"display.max_colwidth\", 200)\n",
    "warnings.filterwarnings(\"ignore\", category=DeprecationWarning)\n",
    "\n",
    "%matplotlib inline"
   ]
  },
  {
   "cell_type": "code",
   "execution_count": 2,
   "metadata": {},
   "outputs": [],
   "source": [
    "df = pd.read_csv(\"./dataforw2v.csv\")"
   ]
  },
  {
   "cell_type": "code",
   "execution_count": 3,
   "metadata": {},
   "outputs": [
    {
     "data": {
      "text/html": [
       "<div>\n",
       "<style scoped>\n",
       "    .dataframe tbody tr th:only-of-type {\n",
       "        vertical-align: middle;\n",
       "    }\n",
       "\n",
       "    .dataframe tbody tr th {\n",
       "        vertical-align: top;\n",
       "    }\n",
       "\n",
       "    .dataframe thead th {\n",
       "        text-align: right;\n",
       "    }\n",
       "</style>\n",
       "<table border=\"1\" class=\"dataframe\">\n",
       "  <thead>\n",
       "    <tr style=\"text-align: right;\">\n",
       "      <th></th>\n",
       "      <th>Unnamed: 0</th>\n",
       "      <th>text</th>\n",
       "      <th>cleaned_text</th>\n",
       "    </tr>\n",
       "  </thead>\n",
       "  <tbody>\n",
       "    <tr>\n",
       "      <th>0</th>\n",
       "      <td>0</td>\n",
       "      <td>Y bitcoin</td>\n",
       "      <td>y bitcoin</td>\n",
       "    </tr>\n",
       "    <tr>\n",
       "      <th>1</th>\n",
       "      <td>1</td>\n",
       "      <td>Prices update in $USD (1 hour): $BTC - 9377.1 $(+0.14 %) $ETH - 183.41 $(+0.29 %) $XRP - 0.24 $(-0.07 %) $BCH - 379.5 $(+0.42 %) $LTC - 70.9 $(+0.4 %) #BTC #ETH #XRP #BCH #LTC #Trading #Crypto #B...</td>\n",
       "      <td>prices update in usd hour btc eth xrp bch ltc</td>\n",
       "    </tr>\n",
       "    <tr>\n",
       "      <th>2</th>\n",
       "      <td>2</td>\n",
       "      <td>Would love 250/300k for one Bitcoin #2022 $BTC</td>\n",
       "      <td>would love k for one bitcoin btc</td>\n",
       "    </tr>\n",
       "    <tr>\n",
       "      <th>3</th>\n",
       "      <td>3</td>\n",
       "      <td>Once #Bitcoin hits the ATH 100% of days will have been profitable. https://www.lookintobitcoin.com/charts/bitcoin-profitable-days/</td>\n",
       "      <td>once hits the ath of days will have been profitable profitable days</td>\n",
       "    </tr>\n",
       "    <tr>\n",
       "      <th>4</th>\n",
       "      <td>4</td>\n",
       "      <td>Can we exchange #bitcoin for fiat?Or your services is for purchase of #bitcoin &amp;amp; #cryptocurrency</td>\n",
       "      <td>can we exchange for fiat or your services is for purchase of amp</td>\n",
       "    </tr>\n",
       "  </tbody>\n",
       "</table>\n",
       "</div>"
      ],
      "text/plain": [
       "   Unnamed: 0  \\\n",
       "0           0   \n",
       "1           1   \n",
       "2           2   \n",
       "3           3   \n",
       "4           4   \n",
       "\n",
       "                                                                                                                                                                                                      text  \\\n",
       "0                                                                                                                                                                                                Y bitcoin   \n",
       "1   Prices update in $USD (1 hour): $BTC - 9377.1 $(+0.14 %) $ETH - 183.41 $(+0.29 %) $XRP - 0.24 $(-0.07 %) $BCH - 379.5 $(+0.42 %) $LTC - 70.9 $(+0.4 %) #BTC #ETH #XRP #BCH #LTC #Trading #Crypto #B...   \n",
       "2                                                                                                                                                           Would love 250/300k for one Bitcoin #2022 $BTC   \n",
       "3                                                                       Once #Bitcoin hits the ATH 100% of days will have been profitable. https://www.lookintobitcoin.com/charts/bitcoin-profitable-days/   \n",
       "4                                                                                                     Can we exchange #bitcoin for fiat?Or your services is for purchase of #bitcoin &amp; #cryptocurrency   \n",
       "\n",
       "                                                           cleaned_text  \n",
       "0                                                             y bitcoin  \n",
       "1                        prices update in usd hour btc eth xrp bch ltc   \n",
       "2                                      would love k for one bitcoin btc  \n",
       "3  once hits the ath of days will have been profitable profitable days   \n",
       "4     can we exchange for fiat or your services is for purchase of amp   "
      ]
     },
     "execution_count": 3,
     "metadata": {},
     "output_type": "execute_result"
    }
   ],
   "source": [
    "df.head()"
   ]
  },
  {
   "cell_type": "code",
   "execution_count": 6,
   "metadata": {},
   "outputs": [],
   "source": [
    "df['cleaned_text'] = df['cleaned_text'].astype(str)"
   ]
  },
  {
   "cell_type": "code",
   "execution_count": 7,
   "metadata": {},
   "outputs": [
    {
     "data": {
      "text/html": [
       "<div>\n",
       "<style scoped>\n",
       "    .dataframe tbody tr th:only-of-type {\n",
       "        vertical-align: middle;\n",
       "    }\n",
       "\n",
       "    .dataframe tbody tr th {\n",
       "        vertical-align: top;\n",
       "    }\n",
       "\n",
       "    .dataframe thead th {\n",
       "        text-align: right;\n",
       "    }\n",
       "</style>\n",
       "<table border=\"1\" class=\"dataframe\">\n",
       "  <thead>\n",
       "    <tr style=\"text-align: right;\">\n",
       "      <th></th>\n",
       "      <th>Unnamed: 0</th>\n",
       "      <th>text</th>\n",
       "      <th>cleaned_text</th>\n",
       "    </tr>\n",
       "  </thead>\n",
       "  <tbody>\n",
       "    <tr>\n",
       "      <th>0</th>\n",
       "      <td>0</td>\n",
       "      <td>Y bitcoin</td>\n",
       "      <td>bitcoin</td>\n",
       "    </tr>\n",
       "    <tr>\n",
       "      <th>1</th>\n",
       "      <td>1</td>\n",
       "      <td>Prices update in $USD (1 hour): $BTC - 9377.1 $(+0.14 %) $ETH - 183.41 $(+0.29 %) $XRP - 0.24 $(-0.07 %) $BCH - 379.5 $(+0.42 %) $LTC - 70.9 $(+0.4 %) #BTC #ETH #XRP #BCH #LTC #Trading #Crypto #B...</td>\n",
       "      <td>prices update hour</td>\n",
       "    </tr>\n",
       "    <tr>\n",
       "      <th>2</th>\n",
       "      <td>2</td>\n",
       "      <td>Would love 250/300k for one Bitcoin #2022 $BTC</td>\n",
       "      <td>would love bitcoin</td>\n",
       "    </tr>\n",
       "    <tr>\n",
       "      <th>3</th>\n",
       "      <td>3</td>\n",
       "      <td>Once #Bitcoin hits the ATH 100% of days will have been profitable. https://www.lookintobitcoin.com/charts/bitcoin-profitable-days/</td>\n",
       "      <td>once hits days will have been profitable profitable days</td>\n",
       "    </tr>\n",
       "    <tr>\n",
       "      <th>4</th>\n",
       "      <td>4</td>\n",
       "      <td>Can we exchange #bitcoin for fiat?Or your services is for purchase of #bitcoin &amp;amp; #cryptocurrency</td>\n",
       "      <td>exchange fiat your services purchase</td>\n",
       "    </tr>\n",
       "    <tr>\n",
       "      <th>5</th>\n",
       "      <td>5</td>\n",
       "      <td>Bitcoin price index https://www.worldcoinindex.com/coin/bitcoin #USD #EUR #CNY #GBP #RUB</td>\n",
       "      <td>bitcoin price index</td>\n",
       "    </tr>\n",
       "    <tr>\n",
       "      <th>6</th>\n",
       "      <td>6</td>\n",
       "      <td>Ethereum co-founder Vitalik Buterin’s relation with Bitcoin Cash https://coinemama.com/ethereum-co-founder-vitalik-buterins-relation-with-bitcoin-cash/</td>\n",
       "      <td>ethereum founder vitalik buterin relation with bitcoin cash founder vitalik buterins relation with bitcoin cash</td>\n",
       "    </tr>\n",
       "    <tr>\n",
       "      <th>7</th>\n",
       "      <td>7</td>\n",
       "      <td>However bitcoin is ratpoison! These people have NFI!</td>\n",
       "      <td>however bitcoin ratpoison these people have</td>\n",
       "    </tr>\n",
       "    <tr>\n",
       "      <th>8</th>\n",
       "      <td>8</td>\n",
       "      <td>The amount of potential set ups is suspect.. suspicious. #Bitcoin #Crypto</td>\n",
       "      <td>amount potential suspect suspicious</td>\n",
       "    </tr>\n",
       "    <tr>\n",
       "      <th>9</th>\n",
       "      <td>9</td>\n",
       "      <td>And I personally thought it'd be good to bring it up along with bitcoin for Libertarians and people who only like gold. I did that a few times years ago but I've lost contact with those people.</td>\n",
       "      <td>personally thought good bring along with bitcoin libertarians people only like gold that times years lost contact with those people</td>\n",
       "    </tr>\n",
       "  </tbody>\n",
       "</table>\n",
       "</div>"
      ],
      "text/plain": [
       "   Unnamed: 0  \\\n",
       "0           0   \n",
       "1           1   \n",
       "2           2   \n",
       "3           3   \n",
       "4           4   \n",
       "5           5   \n",
       "6           6   \n",
       "7           7   \n",
       "8           8   \n",
       "9           9   \n",
       "\n",
       "                                                                                                                                                                                                      text  \\\n",
       "0                                                                                                                                                                                                Y bitcoin   \n",
       "1   Prices update in $USD (1 hour): $BTC - 9377.1 $(+0.14 %) $ETH - 183.41 $(+0.29 %) $XRP - 0.24 $(-0.07 %) $BCH - 379.5 $(+0.42 %) $LTC - 70.9 $(+0.4 %) #BTC #ETH #XRP #BCH #LTC #Trading #Crypto #B...   \n",
       "2                                                                                                                                                           Would love 250/300k for one Bitcoin #2022 $BTC   \n",
       "3                                                                       Once #Bitcoin hits the ATH 100% of days will have been profitable. https://www.lookintobitcoin.com/charts/bitcoin-profitable-days/   \n",
       "4                                                                                                     Can we exchange #bitcoin for fiat?Or your services is for purchase of #bitcoin &amp; #cryptocurrency   \n",
       "5                                                                                                                 Bitcoin price index https://www.worldcoinindex.com/coin/bitcoin #USD #EUR #CNY #GBP #RUB   \n",
       "6                                                  Ethereum co-founder Vitalik Buterin’s relation with Bitcoin Cash https://coinemama.com/ethereum-co-founder-vitalik-buterins-relation-with-bitcoin-cash/   \n",
       "7                                                                                                                                                     However bitcoin is ratpoison! These people have NFI!   \n",
       "8                                                                                                                                The amount of potential set ups is suspect.. suspicious. #Bitcoin #Crypto   \n",
       "9        And I personally thought it'd be good to bring it up along with bitcoin for Libertarians and people who only like gold. I did that a few times years ago but I've lost contact with those people.   \n",
       "\n",
       "                                                                                                                          cleaned_text  \n",
       "0                                                                                                                              bitcoin  \n",
       "1                                                                                                                   prices update hour  \n",
       "2                                                                                                                   would love bitcoin  \n",
       "3                                                                             once hits days will have been profitable profitable days  \n",
       "4                                                                                                 exchange fiat your services purchase  \n",
       "5                                                                                                                  bitcoin price index  \n",
       "6                      ethereum founder vitalik buterin relation with bitcoin cash founder vitalik buterins relation with bitcoin cash  \n",
       "7                                                                                          however bitcoin ratpoison these people have  \n",
       "8                                                                                                  amount potential suspect suspicious  \n",
       "9  personally thought good bring along with bitcoin libertarians people only like gold that times years lost contact with those people  "
      ]
     },
     "execution_count": 7,
     "metadata": {},
     "output_type": "execute_result"
    }
   ],
   "source": [
    "df.cleaned_text = df.cleaned_text.apply(lambda x: ' '.join([w for w in x.split() if len(w) > 3]))\n",
    "df.head(10)"
   ]
  },
  {
   "cell_type": "code",
   "execution_count": 8,
   "metadata": {},
   "outputs": [
    {
     "data": {
      "text/plain": [
       "0                                                             [bitcoin]\n",
       "1                                                [prices, update, hour]\n",
       "2                                                [would, love, bitcoin]\n",
       "3    [once, hits, days, will, have, been, profitable, profitable, days]\n",
       "4                            [exchange, fiat, your, services, purchase]\n",
       "Name: cleaned_text, dtype: object"
      ]
     },
     "execution_count": 8,
     "metadata": {},
     "output_type": "execute_result"
    }
   ],
   "source": [
    "tokenized_tweet = df.cleaned_text.apply(lambda x: x.split())\n",
    "tokenized_tweet.head()"
   ]
  },
  {
   "cell_type": "code",
   "execution_count": 9,
   "metadata": {},
   "outputs": [
    {
     "data": {
      "text/plain": [
       "0                                                 [bitcoin]\n",
       "1                                      [price, updat, hour]\n",
       "2                                    [would, love, bitcoin]\n",
       "3    [onc, hit, day, will, have, been, profit, profit, day]\n",
       "4                    [exchang, fiat, your, servic, purchas]\n",
       "Name: cleaned_text, dtype: object"
      ]
     },
     "execution_count": 9,
     "metadata": {},
     "output_type": "execute_result"
    }
   ],
   "source": [
    "from nltk.stem.porter import * \n",
    "stemmer = PorterStemmer() \n",
    "tokenized_tweet = tokenized_tweet.apply(lambda x: [stemmer.stem(i) for i in x])\n",
    "tokenized_tweet.head()"
   ]
  },
  {
   "cell_type": "code",
   "execution_count": 10,
   "metadata": {},
   "outputs": [
    {
     "data": {
      "text/html": [
       "<div>\n",
       "<style scoped>\n",
       "    .dataframe tbody tr th:only-of-type {\n",
       "        vertical-align: middle;\n",
       "    }\n",
       "\n",
       "    .dataframe tbody tr th {\n",
       "        vertical-align: top;\n",
       "    }\n",
       "\n",
       "    .dataframe thead th {\n",
       "        text-align: right;\n",
       "    }\n",
       "</style>\n",
       "<table border=\"1\" class=\"dataframe\">\n",
       "  <thead>\n",
       "    <tr style=\"text-align: right;\">\n",
       "      <th></th>\n",
       "      <th>Unnamed: 0</th>\n",
       "      <th>text</th>\n",
       "      <th>cleaned_text</th>\n",
       "    </tr>\n",
       "  </thead>\n",
       "  <tbody>\n",
       "    <tr>\n",
       "      <th>0</th>\n",
       "      <td>0</td>\n",
       "      <td>Y bitcoin</td>\n",
       "      <td>bitcoin</td>\n",
       "    </tr>\n",
       "    <tr>\n",
       "      <th>1</th>\n",
       "      <td>1</td>\n",
       "      <td>Prices update in $USD (1 hour): $BTC - 9377.1 $(+0.14 %) $ETH - 183.41 $(+0.29 %) $XRP - 0.24 $(-0.07 %) $BCH - 379.5 $(+0.42 %) $LTC - 70.9 $(+0.4 %) #BTC #ETH #XRP #BCH #LTC #Trading #Crypto #B...</td>\n",
       "      <td>price updat hour</td>\n",
       "    </tr>\n",
       "    <tr>\n",
       "      <th>2</th>\n",
       "      <td>2</td>\n",
       "      <td>Would love 250/300k for one Bitcoin #2022 $BTC</td>\n",
       "      <td>would love bitcoin</td>\n",
       "    </tr>\n",
       "    <tr>\n",
       "      <th>3</th>\n",
       "      <td>3</td>\n",
       "      <td>Once #Bitcoin hits the ATH 100% of days will have been profitable. https://www.lookintobitcoin.com/charts/bitcoin-profitable-days/</td>\n",
       "      <td>onc hit day will have been profit profit day</td>\n",
       "    </tr>\n",
       "    <tr>\n",
       "      <th>4</th>\n",
       "      <td>4</td>\n",
       "      <td>Can we exchange #bitcoin for fiat?Or your services is for purchase of #bitcoin &amp;amp; #cryptocurrency</td>\n",
       "      <td>exchang fiat your servic purchas</td>\n",
       "    </tr>\n",
       "    <tr>\n",
       "      <th>5</th>\n",
       "      <td>5</td>\n",
       "      <td>Bitcoin price index https://www.worldcoinindex.com/coin/bitcoin #USD #EUR #CNY #GBP #RUB</td>\n",
       "      <td>bitcoin price index</td>\n",
       "    </tr>\n",
       "    <tr>\n",
       "      <th>6</th>\n",
       "      <td>6</td>\n",
       "      <td>Ethereum co-founder Vitalik Buterin’s relation with Bitcoin Cash https://coinemama.com/ethereum-co-founder-vitalik-buterins-relation-with-bitcoin-cash/</td>\n",
       "      <td>ethereum founder vitalik buterin relat with bitcoin cash founder vitalik buterin relat with bitcoin cash</td>\n",
       "    </tr>\n",
       "    <tr>\n",
       "      <th>7</th>\n",
       "      <td>7</td>\n",
       "      <td>However bitcoin is ratpoison! These people have NFI!</td>\n",
       "      <td>howev bitcoin ratpoison these peopl have</td>\n",
       "    </tr>\n",
       "    <tr>\n",
       "      <th>8</th>\n",
       "      <td>8</td>\n",
       "      <td>The amount of potential set ups is suspect.. suspicious. #Bitcoin #Crypto</td>\n",
       "      <td>amount potenti suspect suspici</td>\n",
       "    </tr>\n",
       "    <tr>\n",
       "      <th>9</th>\n",
       "      <td>9</td>\n",
       "      <td>And I personally thought it'd be good to bring it up along with bitcoin for Libertarians and people who only like gold. I did that a few times years ago but I've lost contact with those people.</td>\n",
       "      <td>person thought good bring along with bitcoin libertarian peopl onli like gold that time year lost contact with those peopl</td>\n",
       "    </tr>\n",
       "  </tbody>\n",
       "</table>\n",
       "</div>"
      ],
      "text/plain": [
       "   Unnamed: 0  \\\n",
       "0           0   \n",
       "1           1   \n",
       "2           2   \n",
       "3           3   \n",
       "4           4   \n",
       "5           5   \n",
       "6           6   \n",
       "7           7   \n",
       "8           8   \n",
       "9           9   \n",
       "\n",
       "                                                                                                                                                                                                      text  \\\n",
       "0                                                                                                                                                                                                Y bitcoin   \n",
       "1   Prices update in $USD (1 hour): $BTC - 9377.1 $(+0.14 %) $ETH - 183.41 $(+0.29 %) $XRP - 0.24 $(-0.07 %) $BCH - 379.5 $(+0.42 %) $LTC - 70.9 $(+0.4 %) #BTC #ETH #XRP #BCH #LTC #Trading #Crypto #B...   \n",
       "2                                                                                                                                                           Would love 250/300k for one Bitcoin #2022 $BTC   \n",
       "3                                                                       Once #Bitcoin hits the ATH 100% of days will have been profitable. https://www.lookintobitcoin.com/charts/bitcoin-profitable-days/   \n",
       "4                                                                                                     Can we exchange #bitcoin for fiat?Or your services is for purchase of #bitcoin &amp; #cryptocurrency   \n",
       "5                                                                                                                 Bitcoin price index https://www.worldcoinindex.com/coin/bitcoin #USD #EUR #CNY #GBP #RUB   \n",
       "6                                                  Ethereum co-founder Vitalik Buterin’s relation with Bitcoin Cash https://coinemama.com/ethereum-co-founder-vitalik-buterins-relation-with-bitcoin-cash/   \n",
       "7                                                                                                                                                     However bitcoin is ratpoison! These people have NFI!   \n",
       "8                                                                                                                                The amount of potential set ups is suspect.. suspicious. #Bitcoin #Crypto   \n",
       "9        And I personally thought it'd be good to bring it up along with bitcoin for Libertarians and people who only like gold. I did that a few times years ago but I've lost contact with those people.   \n",
       "\n",
       "                                                                                                                 cleaned_text  \n",
       "0                                                                                                                     bitcoin  \n",
       "1                                                                                                            price updat hour  \n",
       "2                                                                                                          would love bitcoin  \n",
       "3                                                                                onc hit day will have been profit profit day  \n",
       "4                                                                                            exchang fiat your servic purchas  \n",
       "5                                                                                                         bitcoin price index  \n",
       "6                    ethereum founder vitalik buterin relat with bitcoin cash founder vitalik buterin relat with bitcoin cash  \n",
       "7                                                                                    howev bitcoin ratpoison these peopl have  \n",
       "8                                                                                              amount potenti suspect suspici  \n",
       "9  person thought good bring along with bitcoin libertarian peopl onli like gold that time year lost contact with those peopl  "
      ]
     },
     "execution_count": 10,
     "metadata": {},
     "output_type": "execute_result"
    }
   ],
   "source": [
    "for i in range(len(tokenized_tweet)):\n",
    "    tokenized_tweet[i] = ' '.join(tokenized_tweet[i])    \n",
    "df['cleaned_text'] = tokenized_tweet\n",
    "df.head(10)"
   ]
  },
  {
   "cell_type": "code",
   "execution_count": 34,
   "metadata": {},
   "outputs": [
    {
     "name": "stdout",
     "output_type": "stream",
     "text": [
      "Wall time: 17min 27s\n"
     ]
    },
    {
     "data": {
      "text/plain": [
       "(704425350, 820215645)"
      ]
     },
     "execution_count": 34,
     "metadata": {},
     "output_type": "execute_result"
    }
   ],
   "source": [
    "%%time\n",
    "\n",
    "tokenized_tweet = df['cleaned_text'].apply(lambda x: x.split()) # tokenizing \n",
    "\n",
    "model_w2v = gensim.models.Word2Vec(\n",
    "            tokenized_tweet,\n",
    "            size=200, # output dimensions\n",
    "            window=5, # context window size\n",
    "            min_count=50, # ignore any words that appear less than 50 times.                                  \n",
    "            sg = 1, # skip-gram model\n",
    "            hs = 0,\n",
    "            negative = 5, # negative sampling\n",
    "            workers= 12, # number of cores that can be used\n",
    ") \n",
    "\n",
    "model_w2v.train(tokenized_tweet, total_examples= len(df['cleaned_text']), epochs=15)"
   ]
  },
  {
   "cell_type": "code",
   "execution_count": 41,
   "metadata": {},
   "outputs": [
    {
     "data": {
      "text/plain": [
       "[('econom', 0.5518285036087036),\n",
       " ('societi', 0.5289602279663086),\n",
       " ('environ', 0.4842783212661743),\n",
       " ('monetari', 0.4699172377586365),\n",
       " ('hyperinfl', 0.4675235450267792),\n",
       " ('devalu', 0.4548271596431732),\n",
       " ('econ', 0.44990524649620056),\n",
       " ('govt', 0.4496572017669678),\n",
       " ('debt', 0.4484199285507202),\n",
       " ('gov', 0.4466349482536316)]"
      ]
     },
     "execution_count": 41,
     "metadata": {},
     "output_type": "execute_result"
    }
   ],
   "source": [
    "model_w2v.wv.most_similar(positive=\"economi\")"
   ]
  },
  {
   "cell_type": "code",
   "execution_count": 42,
   "metadata": {},
   "outputs": [],
   "source": [
    "word_vectors = model_w2v.wv"
   ]
  },
  {
   "cell_type": "code",
   "execution_count": 43,
   "metadata": {},
   "outputs": [],
   "source": [
    "word_vectors.save('./trainedwordvectors.kv')"
   ]
  },
  {
   "cell_type": "code",
   "execution_count": 44,
   "metadata": {},
   "outputs": [],
   "source": [
    "model_w2v.save('./model_w2v.model')"
   ]
  },
  {
   "cell_type": "code",
   "execution_count": 45,
   "metadata": {},
   "outputs": [
    {
     "name": "stdout",
     "output_type": "stream",
     "text": [
      "[ 1.38593063e-01 -1.68801427e-01 -1.86792370e-02  7.44740441e-02\n",
      "  1.49935678e-01 -1.50406331e-01  2.08930388e-01 -2.13830933e-01\n",
      " -5.18644333e-01  1.88223988e-01 -3.18639904e-01  2.87007689e-01\n",
      " -7.15638697e-02  1.01785241e-02  4.10099998e-02  4.83288437e-01\n",
      "  1.45913959e-01  3.34703118e-01 -3.55140418e-01 -3.67752731e-01\n",
      " -2.73817599e-01  8.71907845e-02  6.21754527e-02  4.63143177e-03\n",
      " -9.43851024e-02  9.69165936e-02  6.31797016e-02  1.40076160e-01\n",
      " -5.40537775e-01  1.82207916e-02  3.98640692e-01 -1.17308728e-01\n",
      " -6.12851121e-02  1.69392169e-01 -4.02759761e-01 -3.09553593e-01\n",
      " -2.71309733e-01  1.00915901e-01  1.16313823e-01  1.52991697e-01\n",
      "  4.23344910e-01  2.16856584e-01 -5.30343354e-01 -2.24792197e-01\n",
      "  1.71728730e-01  3.50007534e-01 -4.20321018e-01  3.38185638e-01\n",
      "  2.89284468e-01  1.53420910e-01 -5.13218865e-02  2.42017418e-01\n",
      "  9.56411809e-02 -2.18375593e-01 -1.32159978e-01  2.70435899e-01\n",
      " -1.75274145e-02  6.37846068e-03  8.45731273e-02  4.49221916e-02\n",
      " -2.30792612e-01  1.49083495e-01 -3.45539600e-01 -2.85317120e-03\n",
      " -8.57657790e-02 -1.35247514e-01  6.93603605e-02 -4.94604588e-01\n",
      "  2.20556125e-01 -1.11032858e-01  6.40579220e-03  5.73468730e-02\n",
      " -3.91164213e-01  2.20915943e-01  1.04522310e-01  4.10173601e-03\n",
      "  1.21827267e-01  2.52659079e-02  1.72665060e-01  1.80075485e-02\n",
      " -1.52691275e-01 -2.76813656e-01  1.62700400e-01 -3.47033590e-01\n",
      " -2.08467662e-01  1.57275554e-02 -2.77904905e-02 -2.96200067e-01\n",
      " -1.74239412e-01  7.49496222e-01  1.72515567e-02 -3.95160973e-01\n",
      " -1.51248708e-01 -2.29571462e-01  8.52936134e-02  2.66517043e-01\n",
      "  1.73568457e-01 -1.09498732e-01  1.34814009e-01 -6.45505860e-02\n",
      " -2.73616791e-01 -2.23646417e-01  6.23363741e-02  4.12568301e-01\n",
      " -2.53853023e-01 -1.96439862e-01  4.27082390e-01  1.99612916e-01\n",
      "  3.22704054e-02 -3.69045697e-02  5.76538742e-01  7.57320523e-02\n",
      " -4.58470844e-02  1.38332114e-01  1.16204835e-01 -4.77581918e-02\n",
      " -1.54987887e-01  1.61712632e-01  1.59203708e-02  2.83515126e-01\n",
      "  1.62926883e-01  8.34529400e-02  3.69372487e-01 -1.39807507e-01\n",
      "  7.70917535e-02  8.36700648e-02  2.09641084e-01 -2.42139354e-01\n",
      "  4.27747741e-02 -4.91918921e-01 -1.36761039e-01  2.02028096e-01\n",
      " -2.10159525e-01 -3.86852771e-01  2.62656510e-01  2.01468885e-01\n",
      "  6.18695989e-02 -8.13197941e-02  1.39281437e-01 -4.67548780e-02\n",
      " -2.49526158e-01  1.28379405e-01 -1.37766659e-01  2.99469411e-01\n",
      "  4.62586224e-01  1.48190901e-01 -3.82598303e-02 -1.18434295e-01\n",
      "  5.19893318e-02  9.96600315e-02 -2.21060798e-01 -1.90286100e-01\n",
      " -5.42202890e-01  1.07737921e-01  1.58674046e-01  1.20239042e-01\n",
      " -9.16432366e-02 -2.47689739e-01 -1.97611332e-01  3.64665478e-01\n",
      " -3.42443548e-02 -6.27575666e-02  1.07286461e-01 -3.68993074e-01\n",
      " -2.62343496e-01  2.41396911e-02 -9.69577581e-02  3.69496465e-01\n",
      " -1.40548721e-01 -3.61573607e-01  1.21311478e-01 -6.31210506e-02\n",
      "  2.39491742e-03  5.83689772e-02 -8.66037808e-05  3.26390974e-02\n",
      " -1.73623875e-01  1.82025045e-01  2.71376401e-01 -1.77468121e-01\n",
      "  1.11118697e-01  1.17288083e-01 -4.60610911e-02  3.49357605e-01\n",
      "  3.51970047e-01  2.24883348e-01 -3.48478258e-01 -4.86870110e-02\n",
      "  1.56492695e-01  2.71801986e-02  7.86044970e-02  2.37750933e-01\n",
      "  1.11022599e-01 -8.01933780e-02 -8.03777128e-02  2.02363864e-01\n",
      "  2.98903227e-01  4.19702172e-01 -1.19321004e-01 -2.09013388e-01]\n"
     ]
    }
   ],
   "source": [
    "print(model_w2v['china'])"
   ]
  },
  {
   "cell_type": "code",
   "execution_count": null,
   "metadata": {},
   "outputs": [],
   "source": []
  }
 ],
 "metadata": {
  "kernelspec": {
   "display_name": "Python 3",
   "language": "python",
   "name": "python3"
  },
  "language_info": {
   "codemirror_mode": {
    "name": "ipython",
    "version": 3
   },
   "file_extension": ".py",
   "mimetype": "text/x-python",
   "name": "python",
   "nbconvert_exporter": "python",
   "pygments_lexer": "ipython3",
   "version": "3.7.7"
  }
 },
 "nbformat": 4,
 "nbformat_minor": 4
}
